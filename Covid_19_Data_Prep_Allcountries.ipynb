{
 "cells": [
  {
   "cell_type": "markdown",
   "metadata": {
    "colab_type": "text",
    "id": "dg_X1Xdt1x06"
   },
   "source": [
    "# Zindi Covid-19 Contest - Data Prep\n",
    "\n",
    "This notebook shows how the data for the Zindi contest - Predicting the Global Spread of COVID-19 is derived. As this is an evolving situation, the dataset is not fixed at the start of the contest. Instead, you may use all available data at a given time, and are encouraged to keep incorporating new data as it becomes available. Each week, the leaderboard wil reset and a new submission file will be shared covering the most recent test period. The ultimate goal is to make predictions fo the time following the CLOSE of the competition - more info on the competition page.\n",
    "\n",
    "In this notebook, we download the latest figures from https://github.com/CSSEGISandData/COVID-19, add some additional information, group by Country/Region, re-shape into the format required for submission and show how you can score your model on the latest data without needing to upload submissions to Zindi. "
   ]
  },
  {
   "cell_type": "markdown",
   "metadata": {
    "colab_type": "text",
    "id": "1KcNlVnK78Bd"
   },
   "source": [
    "## Downloading the Data\n",
    "\n",
    "The data has been curated by the Johns Hopkins University Center for Systems Science and Engineering (JHU CSSE), and is pubically available on their GitHub repository. We clone the repository to get the data.\n"
   ]
  },
  {
   "cell_type": "code",
   "execution_count": 1,
   "metadata": {
    "colab": {
     "base_uri": "https://localhost:8080/",
     "height": 34
    },
    "colab_type": "code",
    "id": "VMTjydxK1t9s",
    "outputId": "9cfc3961-1697-4ac2-f859-b04ca9367f05"
   },
   "outputs": [
    {
     "name": "stderr",
     "output_type": "stream",
     "text": [
      "Cloning into 'COVID-19'...\n"
     ]
    }
   ],
   "source": [
    "# Get the latest data\n",
    "!git clone https://github.com/CSSEGISandData/COVID-19"
   ]
  },
  {
   "cell_type": "markdown",
   "metadata": {
    "colab_type": "text",
    "id": "SgDpdxpb2P3I"
   },
   "source": [
    "## Loading the Data"
   ]
  },
  {
   "cell_type": "code",
   "execution_count": 2,
   "metadata": {
    "colab": {},
    "colab_type": "code",
    "id": "uRmTOTRz2SkS"
   },
   "outputs": [],
   "source": [
    "import pandas as pd"
   ]
  },
  {
   "cell_type": "code",
   "execution_count": 4,
   "metadata": {
    "colab": {
     "base_uri": "https://localhost:8080/",
     "height": 217
    },
    "colab_type": "code",
    "id": "IVEmPJ8r2ZJs",
    "outputId": "3f082127-ea58-45e1-e852-4dce1f631979"
   },
   "outputs": [
    {
     "data": {
      "text/html": [
       "<div>\n",
       "<style scoped>\n",
       "    .dataframe tbody tr th:only-of-type {\n",
       "        vertical-align: middle;\n",
       "    }\n",
       "\n",
       "    .dataframe tbody tr th {\n",
       "        vertical-align: top;\n",
       "    }\n",
       "\n",
       "    .dataframe thead th {\n",
       "        text-align: right;\n",
       "    }\n",
       "</style>\n",
       "<table border=\"1\" class=\"dataframe\">\n",
       "  <thead>\n",
       "    <tr style=\"text-align: right;\">\n",
       "      <th></th>\n",
       "      <th>Province/State</th>\n",
       "      <th>Country/Region</th>\n",
       "      <th>Lat</th>\n",
       "      <th>Long</th>\n",
       "      <th>1/22/20</th>\n",
       "      <th>1/23/20</th>\n",
       "      <th>1/24/20</th>\n",
       "      <th>1/25/20</th>\n",
       "      <th>1/26/20</th>\n",
       "      <th>1/27/20</th>\n",
       "      <th>...</th>\n",
       "      <th>5/4/20</th>\n",
       "      <th>5/5/20</th>\n",
       "      <th>5/6/20</th>\n",
       "      <th>5/7/20</th>\n",
       "      <th>5/8/20</th>\n",
       "      <th>5/9/20</th>\n",
       "      <th>5/10/20</th>\n",
       "      <th>5/11/20</th>\n",
       "      <th>5/12/20</th>\n",
       "      <th>5/13/20</th>\n",
       "    </tr>\n",
       "  </thead>\n",
       "  <tbody>\n",
       "    <tr>\n",
       "      <th>0</th>\n",
       "      <td>NaN</td>\n",
       "      <td>Afghanistan</td>\n",
       "      <td>33.0000</td>\n",
       "      <td>65.0000</td>\n",
       "      <td>0</td>\n",
       "      <td>0</td>\n",
       "      <td>0</td>\n",
       "      <td>0</td>\n",
       "      <td>0</td>\n",
       "      <td>0</td>\n",
       "      <td>...</td>\n",
       "      <td>2894</td>\n",
       "      <td>3224</td>\n",
       "      <td>3392</td>\n",
       "      <td>3563</td>\n",
       "      <td>3778</td>\n",
       "      <td>4033</td>\n",
       "      <td>4402</td>\n",
       "      <td>4687</td>\n",
       "      <td>4963</td>\n",
       "      <td>5226</td>\n",
       "    </tr>\n",
       "    <tr>\n",
       "      <th>1</th>\n",
       "      <td>NaN</td>\n",
       "      <td>Albania</td>\n",
       "      <td>41.1533</td>\n",
       "      <td>20.1683</td>\n",
       "      <td>0</td>\n",
       "      <td>0</td>\n",
       "      <td>0</td>\n",
       "      <td>0</td>\n",
       "      <td>0</td>\n",
       "      <td>0</td>\n",
       "      <td>...</td>\n",
       "      <td>803</td>\n",
       "      <td>820</td>\n",
       "      <td>832</td>\n",
       "      <td>842</td>\n",
       "      <td>850</td>\n",
       "      <td>856</td>\n",
       "      <td>868</td>\n",
       "      <td>872</td>\n",
       "      <td>876</td>\n",
       "      <td>880</td>\n",
       "    </tr>\n",
       "    <tr>\n",
       "      <th>2</th>\n",
       "      <td>NaN</td>\n",
       "      <td>Algeria</td>\n",
       "      <td>28.0339</td>\n",
       "      <td>1.6596</td>\n",
       "      <td>0</td>\n",
       "      <td>0</td>\n",
       "      <td>0</td>\n",
       "      <td>0</td>\n",
       "      <td>0</td>\n",
       "      <td>0</td>\n",
       "      <td>...</td>\n",
       "      <td>4648</td>\n",
       "      <td>4838</td>\n",
       "      <td>4997</td>\n",
       "      <td>5182</td>\n",
       "      <td>5369</td>\n",
       "      <td>5558</td>\n",
       "      <td>5723</td>\n",
       "      <td>5891</td>\n",
       "      <td>6067</td>\n",
       "      <td>6253</td>\n",
       "    </tr>\n",
       "    <tr>\n",
       "      <th>3</th>\n",
       "      <td>NaN</td>\n",
       "      <td>Andorra</td>\n",
       "      <td>42.5063</td>\n",
       "      <td>1.5218</td>\n",
       "      <td>0</td>\n",
       "      <td>0</td>\n",
       "      <td>0</td>\n",
       "      <td>0</td>\n",
       "      <td>0</td>\n",
       "      <td>0</td>\n",
       "      <td>...</td>\n",
       "      <td>750</td>\n",
       "      <td>751</td>\n",
       "      <td>751</td>\n",
       "      <td>752</td>\n",
       "      <td>752</td>\n",
       "      <td>754</td>\n",
       "      <td>755</td>\n",
       "      <td>755</td>\n",
       "      <td>758</td>\n",
       "      <td>760</td>\n",
       "    </tr>\n",
       "    <tr>\n",
       "      <th>4</th>\n",
       "      <td>NaN</td>\n",
       "      <td>Angola</td>\n",
       "      <td>-11.2027</td>\n",
       "      <td>17.8739</td>\n",
       "      <td>0</td>\n",
       "      <td>0</td>\n",
       "      <td>0</td>\n",
       "      <td>0</td>\n",
       "      <td>0</td>\n",
       "      <td>0</td>\n",
       "      <td>...</td>\n",
       "      <td>35</td>\n",
       "      <td>36</td>\n",
       "      <td>36</td>\n",
       "      <td>36</td>\n",
       "      <td>43</td>\n",
       "      <td>43</td>\n",
       "      <td>45</td>\n",
       "      <td>45</td>\n",
       "      <td>45</td>\n",
       "      <td>45</td>\n",
       "    </tr>\n",
       "  </tbody>\n",
       "</table>\n",
       "<p>5 rows × 117 columns</p>\n",
       "</div>"
      ],
      "text/plain": [
       "  Province/State Country/Region      Lat     Long  1/22/20  1/23/20  1/24/20  \\\n",
       "0            NaN    Afghanistan  33.0000  65.0000        0        0        0   \n",
       "1            NaN        Albania  41.1533  20.1683        0        0        0   \n",
       "2            NaN        Algeria  28.0339   1.6596        0        0        0   \n",
       "3            NaN        Andorra  42.5063   1.5218        0        0        0   \n",
       "4            NaN         Angola -11.2027  17.8739        0        0        0   \n",
       "\n",
       "   1/25/20  1/26/20  1/27/20  ...  5/4/20  5/5/20  5/6/20  5/7/20  5/8/20  \\\n",
       "0        0        0        0  ...    2894    3224    3392    3563    3778   \n",
       "1        0        0        0  ...     803     820     832     842     850   \n",
       "2        0        0        0  ...    4648    4838    4997    5182    5369   \n",
       "3        0        0        0  ...     750     751     751     752     752   \n",
       "4        0        0        0  ...      35      36      36      36      43   \n",
       "\n",
       "   5/9/20  5/10/20  5/11/20  5/12/20  5/13/20  \n",
       "0    4033     4402     4687     4963     5226  \n",
       "1     856      868      872      876      880  \n",
       "2    5558     5723     5891     6067     6253  \n",
       "3     754      755      755      758      760  \n",
       "4      43       45       45       45       45  \n",
       "\n",
       "[5 rows x 117 columns]"
      ]
     },
     "execution_count": 4,
     "metadata": {},
     "output_type": "execute_result"
    }
   ],
   "source": [
    "cases = pd.read_csv('COVID-19/csse_covid_19_data/csse_covid_19_time_series/time_series_covid19_confirmed_global.csv')\n",
    "cases.head()"
   ]
  },
  {
   "cell_type": "code",
   "execution_count": 5,
   "metadata": {
    "colab": {
     "base_uri": "https://localhost:8080/",
     "height": 217
    },
    "colab_type": "code",
    "id": "xiuBvz2V2ley",
    "outputId": "76a81497-abc8-4c50-dfb0-9e93ffde2d3c"
   },
   "outputs": [
    {
     "data": {
      "text/html": [
       "<div>\n",
       "<style scoped>\n",
       "    .dataframe tbody tr th:only-of-type {\n",
       "        vertical-align: middle;\n",
       "    }\n",
       "\n",
       "    .dataframe tbody tr th {\n",
       "        vertical-align: top;\n",
       "    }\n",
       "\n",
       "    .dataframe thead th {\n",
       "        text-align: right;\n",
       "    }\n",
       "</style>\n",
       "<table border=\"1\" class=\"dataframe\">\n",
       "  <thead>\n",
       "    <tr style=\"text-align: right;\">\n",
       "      <th></th>\n",
       "      <th>Province/State</th>\n",
       "      <th>Country/Region</th>\n",
       "      <th>Lat</th>\n",
       "      <th>Long</th>\n",
       "      <th>1/22/20</th>\n",
       "      <th>1/23/20</th>\n",
       "      <th>1/24/20</th>\n",
       "      <th>1/25/20</th>\n",
       "      <th>1/26/20</th>\n",
       "      <th>1/27/20</th>\n",
       "      <th>...</th>\n",
       "      <th>5/4/20</th>\n",
       "      <th>5/5/20</th>\n",
       "      <th>5/6/20</th>\n",
       "      <th>5/7/20</th>\n",
       "      <th>5/8/20</th>\n",
       "      <th>5/9/20</th>\n",
       "      <th>5/10/20</th>\n",
       "      <th>5/11/20</th>\n",
       "      <th>5/12/20</th>\n",
       "      <th>5/13/20</th>\n",
       "    </tr>\n",
       "  </thead>\n",
       "  <tbody>\n",
       "    <tr>\n",
       "      <th>0</th>\n",
       "      <td>NaN</td>\n",
       "      <td>Afghanistan</td>\n",
       "      <td>33.0000</td>\n",
       "      <td>65.0000</td>\n",
       "      <td>0</td>\n",
       "      <td>0</td>\n",
       "      <td>0</td>\n",
       "      <td>0</td>\n",
       "      <td>0</td>\n",
       "      <td>0</td>\n",
       "      <td>...</td>\n",
       "      <td>90</td>\n",
       "      <td>95</td>\n",
       "      <td>104</td>\n",
       "      <td>106</td>\n",
       "      <td>109</td>\n",
       "      <td>115</td>\n",
       "      <td>120</td>\n",
       "      <td>122</td>\n",
       "      <td>127</td>\n",
       "      <td>132</td>\n",
       "    </tr>\n",
       "    <tr>\n",
       "      <th>1</th>\n",
       "      <td>NaN</td>\n",
       "      <td>Albania</td>\n",
       "      <td>41.1533</td>\n",
       "      <td>20.1683</td>\n",
       "      <td>0</td>\n",
       "      <td>0</td>\n",
       "      <td>0</td>\n",
       "      <td>0</td>\n",
       "      <td>0</td>\n",
       "      <td>0</td>\n",
       "      <td>...</td>\n",
       "      <td>31</td>\n",
       "      <td>31</td>\n",
       "      <td>31</td>\n",
       "      <td>31</td>\n",
       "      <td>31</td>\n",
       "      <td>31</td>\n",
       "      <td>31</td>\n",
       "      <td>31</td>\n",
       "      <td>31</td>\n",
       "      <td>31</td>\n",
       "    </tr>\n",
       "    <tr>\n",
       "      <th>2</th>\n",
       "      <td>NaN</td>\n",
       "      <td>Algeria</td>\n",
       "      <td>28.0339</td>\n",
       "      <td>1.6596</td>\n",
       "      <td>0</td>\n",
       "      <td>0</td>\n",
       "      <td>0</td>\n",
       "      <td>0</td>\n",
       "      <td>0</td>\n",
       "      <td>0</td>\n",
       "      <td>...</td>\n",
       "      <td>465</td>\n",
       "      <td>470</td>\n",
       "      <td>476</td>\n",
       "      <td>483</td>\n",
       "      <td>488</td>\n",
       "      <td>494</td>\n",
       "      <td>502</td>\n",
       "      <td>507</td>\n",
       "      <td>515</td>\n",
       "      <td>522</td>\n",
       "    </tr>\n",
       "    <tr>\n",
       "      <th>3</th>\n",
       "      <td>NaN</td>\n",
       "      <td>Andorra</td>\n",
       "      <td>42.5063</td>\n",
       "      <td>1.5218</td>\n",
       "      <td>0</td>\n",
       "      <td>0</td>\n",
       "      <td>0</td>\n",
       "      <td>0</td>\n",
       "      <td>0</td>\n",
       "      <td>0</td>\n",
       "      <td>...</td>\n",
       "      <td>45</td>\n",
       "      <td>46</td>\n",
       "      <td>46</td>\n",
       "      <td>47</td>\n",
       "      <td>47</td>\n",
       "      <td>48</td>\n",
       "      <td>48</td>\n",
       "      <td>48</td>\n",
       "      <td>48</td>\n",
       "      <td>49</td>\n",
       "    </tr>\n",
       "    <tr>\n",
       "      <th>4</th>\n",
       "      <td>NaN</td>\n",
       "      <td>Angola</td>\n",
       "      <td>-11.2027</td>\n",
       "      <td>17.8739</td>\n",
       "      <td>0</td>\n",
       "      <td>0</td>\n",
       "      <td>0</td>\n",
       "      <td>0</td>\n",
       "      <td>0</td>\n",
       "      <td>0</td>\n",
       "      <td>...</td>\n",
       "      <td>2</td>\n",
       "      <td>2</td>\n",
       "      <td>2</td>\n",
       "      <td>2</td>\n",
       "      <td>2</td>\n",
       "      <td>2</td>\n",
       "      <td>2</td>\n",
       "      <td>2</td>\n",
       "      <td>2</td>\n",
       "      <td>2</td>\n",
       "    </tr>\n",
       "  </tbody>\n",
       "</table>\n",
       "<p>5 rows × 117 columns</p>\n",
       "</div>"
      ],
      "text/plain": [
       "  Province/State Country/Region      Lat     Long  1/22/20  1/23/20  1/24/20  \\\n",
       "0            NaN    Afghanistan  33.0000  65.0000        0        0        0   \n",
       "1            NaN        Albania  41.1533  20.1683        0        0        0   \n",
       "2            NaN        Algeria  28.0339   1.6596        0        0        0   \n",
       "3            NaN        Andorra  42.5063   1.5218        0        0        0   \n",
       "4            NaN         Angola -11.2027  17.8739        0        0        0   \n",
       "\n",
       "   1/25/20  1/26/20  1/27/20  ...  5/4/20  5/5/20  5/6/20  5/7/20  5/8/20  \\\n",
       "0        0        0        0  ...      90      95     104     106     109   \n",
       "1        0        0        0  ...      31      31      31      31      31   \n",
       "2        0        0        0  ...     465     470     476     483     488   \n",
       "3        0        0        0  ...      45      46      46      47      47   \n",
       "4        0        0        0  ...       2       2       2       2       2   \n",
       "\n",
       "   5/9/20  5/10/20  5/11/20  5/12/20  5/13/20  \n",
       "0     115      120      122      127      132  \n",
       "1      31       31       31       31       31  \n",
       "2     494      502      507      515      522  \n",
       "3      48       48       48       48       49  \n",
       "4       2        2        2        2        2  \n",
       "\n",
       "[5 rows x 117 columns]"
      ]
     },
     "execution_count": 5,
     "metadata": {},
     "output_type": "execute_result"
    }
   ],
   "source": [
    "deaths = pd.read_csv('COVID-19/csse_covid_19_data/csse_covid_19_time_series/time_series_covid19_deaths_global.csv')\n",
    "deaths.head()"
   ]
  },
  {
   "cell_type": "markdown",
   "metadata": {
    "colab_type": "text",
    "id": "ZXFzWEbo5QKn"
   },
   "source": [
    "# Adding All Countries \n",
    "\n",
    "To avoid changing the submission format, Zindi are now using a set list of countries. This section will be updated as new Countries/Regions are added to the JHU data, to try and maintain a consistent mapping."
   ]
  },
  {
   "cell_type": "code",
   "execution_count": 6,
   "metadata": {
    "colab": {
     "base_uri": "https://localhost:8080/",
     "height": 70
    },
    "colab_type": "code",
    "id": "a_4tM1YM5oLX",
    "outputId": "97729fda-f667-47f9-8be7-23b3915ebe71"
   },
   "outputs": [
    {
     "name": "stderr",
     "output_type": "stream",
     "text": [
      "  % Total    % Received % Xferd  Average Speed   Time    Time     Time  Current\n",
      "                                 Dload  Upload   Total   Spent    Left  Speed\n",
      "\n",
      "  0     0    0     0    0     0      0      0 --:--:-- --:--:-- --:--:--     0\n",
      "  0     0    0     0    0     0      0      0 --:--:-- --:--:-- --:--:--     0\n",
      "  0     0    0     0    0     0      0      0 --:--:--  0:00:01 --:--:--     0\n",
      "100 11197  100 11197    0     0   9644      0  0:00:01  0:00:01 --:--:--  9644\n"
     ]
    }
   ],
   "source": [
    "# Download a list of countries from the UN\n",
    "!curl -o EF.xlsx https://untermportal.un.org/unterm/country/downloadfile?targetLanguage=fr"
   ]
  },
  {
   "cell_type": "code",
   "execution_count": 7,
   "metadata": {
    "colab": {
     "base_uri": "https://localhost:8080/",
     "height": 107
    },
    "colab_type": "code",
    "id": "_thOvfuM5yTM",
    "outputId": "aca96da7-175a-44e6-eddb-133f4cc5ef63"
   },
   "outputs": [
    {
     "data": {
      "text/html": [
       "<div>\n",
       "<style scoped>\n",
       "    .dataframe tbody tr th:only-of-type {\n",
       "        vertical-align: middle;\n",
       "    }\n",
       "\n",
       "    .dataframe tbody tr th {\n",
       "        vertical-align: top;\n",
       "    }\n",
       "\n",
       "    .dataframe thead th {\n",
       "        text-align: right;\n",
       "    }\n",
       "</style>\n",
       "<table border=\"1\" class=\"dataframe\">\n",
       "  <thead>\n",
       "    <tr style=\"text-align: right;\">\n",
       "      <th></th>\n",
       "      <th>English short</th>\n",
       "      <th>French short</th>\n",
       "      <th>English formal</th>\n",
       "      <th>French formal</th>\n",
       "    </tr>\n",
       "  </thead>\n",
       "  <tbody>\n",
       "    <tr>\n",
       "      <th>0</th>\n",
       "      <td>Afghanistan</td>\n",
       "      <td>Afghanistan (l')</td>\n",
       "      <td>the Islamic Republic of Afghanistan</td>\n",
       "      <td>la République islamique d'Afghanistan</td>\n",
       "    </tr>\n",
       "    <tr>\n",
       "      <th>1</th>\n",
       "      <td>Albania</td>\n",
       "      <td>Albanie (l')</td>\n",
       "      <td>the Republic of Albania</td>\n",
       "      <td>la République d'Albanie</td>\n",
       "    </tr>\n",
       "  </tbody>\n",
       "</table>\n",
       "</div>"
      ],
      "text/plain": [
       "  English short      French short                       English formal  \\\n",
       "0   Afghanistan  Afghanistan (l')  the Islamic Republic of Afghanistan   \n",
       "1       Albania      Albanie (l')              the Republic of Albania   \n",
       "\n",
       "                           French formal  \n",
       "0  la République islamique d'Afghanistan  \n",
       "1                la République d'Albanie  "
      ]
     },
     "execution_count": 7,
     "metadata": {},
     "output_type": "execute_result"
    }
   ],
   "source": [
    "countries = pd.read_excel('EF.xlsx')[:193]\n",
    "countries.head(2)"
   ]
  },
  {
   "cell_type": "code",
   "execution_count": 8,
   "metadata": {
    "colab": {
     "base_uri": "https://localhost:8080/",
     "height": 52
    },
    "colab_type": "code",
    "id": "blcVe1JB6lML",
    "outputId": "e0343773-b5bf-48f2-c192-280ed43a14c0"
   },
   "outputs": [
    {
     "name": "stdout",
     "output_type": "stream",
     "text": [
      "(267, 117) (188,)\n",
      "(154,)\n"
     ]
    }
   ],
   "source": [
    "# Which regions in the JHU data have direct matches in countries?\n",
    "print(deaths.shape, deaths['Country/Region'].unique().shape)\n",
    "print(deaths.loc[deaths['Country/Region'].isin(countries['English short'].values)]['Country/Region'].unique().shape)"
   ]
  },
  {
   "cell_type": "code",
   "execution_count": 9,
   "metadata": {
    "colab": {},
    "colab_type": "code",
    "id": "IwsNF0eA7qMM"
   },
   "outputs": [],
   "source": [
    "# For those with direct matches, add a new column ['Territory']\n",
    "deaths['Territory'] = ''\n",
    "for c in deaths.loc[deaths['Country/Region'].isin(countries['English short'].values)]['Country/Region'].unique():\n",
    "    deaths.loc[deaths['Country/Region'] == c, 'Territory'] = c\n",
    "\n",
    "# Same for cases\n",
    "cases['Territory'] = ''\n",
    "for c in cases.loc[cases['Country/Region'].isin(countries['English short'].values)]['Country/Region'].unique():\n",
    "    cases.loc[cases['Country/Region'] == c, 'Territory'] = c\n",
    "\n",
    "deaths.loc[deaths['Country/Region']=='Taiwan*', 'Territory'] = 'Taiwan'\n",
    "cases.loc[cases['Country/Region']=='Taiwan*', 'Territory'] = 'Taiwan'"
   ]
  },
  {
   "cell_type": "code",
   "execution_count": 10,
   "metadata": {
    "colab": {
     "base_uri": "https://localhost:8080/",
     "height": 123
    },
    "colab_type": "code",
    "id": "B3CsXrbu7Yp-",
    "outputId": "9405ceda-3b5e-4c76-f779-ab0fe347c32d"
   },
   "outputs": [
    {
     "name": "stdout",
     "output_type": "stream",
     "text": [
      "['Bahamas' 'Bolivia' 'Brunei' 'Central African Republic'\n",
      " 'Congo (Brazzaville)' 'Congo (Kinshasa)' \"Cote d'Ivoire\"\n",
      " 'Diamond Princess' 'Dominican Republic' 'Gambia' 'Holy See' 'Iran'\n",
      " 'Korea, South' 'Moldova' 'Netherlands' 'Niger' 'Philippines' 'Russia'\n",
      " 'Sudan' 'Taiwan*' 'Tanzania' 'United Arab Emirates' 'United Kingdom' 'US'\n",
      " 'Venezuela' 'Vietnam' 'Syria' 'Laos' 'West Bank and Gaza' 'Kosovo'\n",
      " 'Burma' 'MS Zaandam' 'Western Sahara' 'Comoros']\n"
     ]
    }
   ],
   "source": [
    "# The problem ones we need to reconcile manually:\n",
    "print(deaths.loc[~deaths['Country/Region'].isin(countries['English short'].values)]['Country/Region'].unique())"
   ]
  },
  {
   "cell_type": "code",
   "execution_count": 11,
   "metadata": {
    "colab": {
     "base_uri": "https://localhost:8080/",
     "height": 123
    },
    "colab_type": "code",
    "id": "CQ5O4jvY8Je2",
    "outputId": "3431008d-1dc5-4ed1-d85a-046108529249"
   },
   "outputs": [
    {
     "name": "stdout",
     "output_type": "stream",
     "text": [
      "Dropping ['Diamond Princess' 'Holy See' 'West Bank and Gaza' 'Kosovo' 'Burma'\n",
      " 'MS Zaandam' 'Western Sahara' 'Comoros']\n",
      "(267, 118)\n",
      "(259, 118)\n",
      "Dropping ['Diamond Princess' 'Holy See' 'West Bank and Gaza' 'Kosovo' 'Burma'\n",
      " 'MS Zaandam' 'Western Sahara' 'Comoros']\n",
      "(267, 118)\n",
      "(259, 118)\n"
     ]
    }
   ],
   "source": [
    "# Add them manually:\n",
    "deaths.loc[deaths['Country/Region'] == 'United Arab Emirates', 'Territory'] = 'United Arab Emirates (the)'\n",
    "deaths.loc[deaths['Country/Region'] == 'Philippines', 'Territory'] = 'Philippines (the)'\n",
    "deaths.loc[deaths['Country/Region'] == 'Dominican Republic', 'Territory'] = 'Dominican Republic (the)'\n",
    "deaths.loc[deaths['Country/Region'] == 'Brunei', 'Territory'] = 'Brunei Darussalam'\n",
    "deaths.loc[deaths['Country/Region'] == 'US', 'Territory'] = 'United States of America (the)'\n",
    "deaths.loc[deaths['Country/Region'] == 'Iran', 'Territory'] = 'Iran (Islamic Republic of)'\n",
    "deaths.loc[deaths['Country/Region'] == 'Korea, South', 'Territory'] = \"Democratic People's Republic of Korea (the)\" # IS this right?\n",
    "deaths.loc[deaths['Country/Region'] == 'Vietnam', 'Territory'] = 'Viet Nam'\n",
    "deaths.loc[deaths['Country/Region'] == 'Russia', 'Territory'] = 'Russian Federation (the)'\n",
    "deaths.loc[deaths['Country/Region'] == 'Moldova', 'Territory'] = 'Republic of Moldova (the)'\n",
    "deaths.loc[deaths['Country/Region'] == 'Bolivia', 'Territory'] = 'Bolivia (Plurinational State of)'\n",
    "deaths.loc[deaths['Country/Region'] == 'United Kingdom', 'Territory'] = 'United Kingdom of Great Britain and Northern Ireland (the)'\n",
    "deaths.loc[deaths['Country/Region'] == 'Congo (Kinshasa)', 'Territory'] = 'Democratic Republic of the Congo (the)' # <<< Please check\n",
    "deaths.loc[deaths['Country/Region'] == \"Cote d'Ivoire\", 'Territory'] = \"Côte d'Ivoire\"\n",
    "deaths.loc[deaths['Country/Region'] == 'Sudan', 'Territory'] = \"South Sudan\" #?\n",
    "deaths.loc[deaths['Country/Region'] == 'Venezuela', 'Territory'] = \"Venezuela (Bolivarian Republic of)\"\n",
    "deaths.loc[deaths['Country/Region'] == 'Central African Republic', 'Territory'] = 'Central African Republic (the)'\n",
    "deaths.loc[deaths['Country/Region'] == 'Congo (Brazzaville)', 'Territory'] = 'Congo (the)'\n",
    "deaths.loc[deaths['Country/Region'] == 'Netherlands', 'Territory'] = 'Netherlands (the)'\n",
    "deaths.loc[deaths['Country/Region'] == 'Tanzania', 'Territory'] = 'United Republic of Tanzania (the)'\n",
    "deaths.loc[deaths['Country/Region'] == 'Gambia', 'Territory'] = 'Gambia (the)'\n",
    "deaths.loc[deaths['Country/Region'] == 'Bahamas', 'Territory'] = 'Bahamas (the)'\n",
    "deaths.loc[deaths['Country/Region'] == 'Niger', 'Territory'] = 'Niger (the)'\n",
    "deaths.loc[deaths['Country/Region'] == 'Syria', 'Territory'] = 'Syrian Arab Republic (the)'\n",
    "deaths.loc[deaths['Country/Region'] == 'Laos', 'Territory'] = \"Lao People's Democratic Republic (the)\"\n",
    "\n",
    "# Drop those without a country match (!! - check output to make sure we aren't missing new additions)\n",
    "print('Dropping', deaths.loc[deaths['Territory'] == '']['Country/Region'].unique())\n",
    "print(deaths.shape)\n",
    "deaths=deaths.loc[deaths['Territory']!= '']\n",
    "print(deaths.shape)\n",
    "\n",
    "# And for cases\n",
    "# Add them manually:\n",
    "cases.loc[cases['Country/Region'] == 'United Arab Emirates', 'Territory'] = 'United Arab Emirates (the)'\n",
    "cases.loc[cases['Country/Region'] == 'Philippines', 'Territory'] = 'Philippines (the)'\n",
    "cases.loc[cases['Country/Region'] == 'Dominican Republic', 'Territory'] = 'Dominican Republic (the)'\n",
    "cases.loc[cases['Country/Region'] == 'Brunei', 'Territory'] = 'Brunei Darussalam'\n",
    "cases.loc[cases['Country/Region'] == 'US', 'Territory'] = 'United States of America (the)'\n",
    "cases.loc[cases['Country/Region'] == 'Iran', 'Territory'] = 'Iran (Islamic Republic of)'\n",
    "cases.loc[cases['Country/Region'] == 'Korea, South', 'Territory'] = \"Democratic People's Republic of Korea (the)\" # IS this right?\n",
    "cases.loc[cases['Country/Region'] == 'Vietnam', 'Territory'] = 'Viet Nam'\n",
    "cases.loc[cases['Country/Region'] == 'Russia', 'Territory'] = 'Russian Federation (the)'\n",
    "cases.loc[cases['Country/Region'] == 'Moldova', 'Territory'] = 'Republic of Moldova (the)'\n",
    "cases.loc[cases['Country/Region'] == 'Bolivia', 'Territory'] = 'Bolivia (Plurinational State of)'\n",
    "cases.loc[cases['Country/Region'] == 'United Kingdom', 'Territory'] = 'United Kingdom of Great Britain and Northern Ireland (the)'\n",
    "cases.loc[cases['Country/Region'] == 'Congo (Kinshasa)', 'Territory'] = 'Democratic Republic of the Congo (the)' # <<< Please check\n",
    "cases.loc[cases['Country/Region'] == \"Cote d'Ivoire\", 'Territory'] = \"Côte d'Ivoire\"\n",
    "cases.loc[cases['Country/Region'] == 'Sudan', 'Territory'] = \"South Sudan\" #?\n",
    "cases.loc[cases['Country/Region'] == 'Venezuela', 'Territory'] = \"Venezuela (Bolivarian Republic of)\"\n",
    "cases.loc[cases['Country/Region'] == 'Central African Republic', 'Territory'] = 'Central African Republic (the)'\n",
    "cases.loc[cases['Country/Region'] == 'Congo (Brazzaville)', 'Territory'] = 'Congo (the)'\n",
    "cases.loc[cases['Country/Region'] == 'Netherlands', 'Territory'] = 'Netherlands (the)'\n",
    "cases.loc[cases['Country/Region'] == 'Tanzania', 'Territory'] = 'United Republic of Tanzania (the)'\n",
    "cases.loc[cases['Country/Region'] == 'Gambia', 'Territory'] = 'Gambia (the)'\n",
    "cases.loc[cases['Country/Region'] == 'Bahamas', 'Territory'] = 'Bahamas (the)'\n",
    "cases.loc[cases['Country/Region'] == 'Niger', 'Territory'] = 'Niger (the)'\n",
    "cases.loc[cases['Country/Region'] == 'Syria', 'Territory'] = 'Syrian Arab Republic (the)'\n",
    "cases.loc[cases['Country/Region'] == 'Laos', 'Territory'] = \"Lao People's Democratic Republic (the)\"\n",
    "\n",
    "# Drop those without a country match (!! - check output to make sure we aren't missing new additions)\n",
    "print('Dropping', cases.loc[cases['Territory'] == '']['Country/Region'].unique())\n",
    "print(cases.shape)\n",
    "cases=cases.loc[cases['Territory']!= '']\n",
    "print(cases.shape)"
   ]
  },
  {
   "cell_type": "code",
   "execution_count": 12,
   "metadata": {
    "colab": {
     "base_uri": "https://localhost:8080/",
     "height": 141
    },
    "colab_type": "code",
    "id": "pKS0koG1AkSL",
    "outputId": "4d7bfe5d-4dc9-46c9-a0c4-ab362fc8a04b"
   },
   "outputs": [
    {
     "name": "stdout",
     "output_type": "stream",
     "text": [
      "Adding: ['Comoros (the)' 'Kiribati' 'Marshall Islands (the)'\n",
      " 'Micronesia (Federated States of)' 'Myanmar' 'Nauru' 'Palau'\n",
      " 'Republic of Korea (the)' 'Samoa' 'Solomon Islands' 'Sudan (the)' 'Tonga'\n",
      " 'Turkmenistan' 'Tuvalu' 'Vanuatu']\n",
      "(274, 118)\n",
      "(274, 118)\n"
     ]
    }
   ],
   "source": [
    "# Add the rest of the countries with cases set to 0 (!! Use with caution as data may be unreported)\n",
    "import numpy as np\n",
    "\n",
    "remainder = countries.loc[~countries['English short'].isin(deaths.Territory.unique())]\n",
    "print('Adding:', remainder['English short'].unique())\n",
    "for c in remainder['English short'].unique():\n",
    "    row = pd.Series([0 for _ in range(len(deaths.columns))])\n",
    "    row_df = pd.DataFrame([row])\n",
    "    row_df.columns = deaths.columns\n",
    "    row_df['Country/Region'] = c\n",
    "    row_df['Territory'] = c\n",
    "    deaths = pd.concat([deaths, row_df], ignore_index=True)\n",
    "print(deaths.shape)\n",
    "\n",
    "# And for cases\n",
    "for c in remainder['English short'].unique():\n",
    "    row = pd.Series([0 for _ in range(len(cases.columns))])\n",
    "    row_df = pd.DataFrame([row])\n",
    "    row_df.columns = cases.columns\n",
    "    row_df['Country/Region'] = c\n",
    "    row_df['Territory'] = c\n",
    "    cases = pd.concat([cases, row_df], ignore_index=True)\n",
    "print(cases.shape)"
   ]
  },
  {
   "cell_type": "markdown",
   "metadata": {
    "colab_type": "text",
    "id": "jZzz6IEjUUp9"
   },
   "source": [
    "# Splitting out some regions into their own territories\n",
    "\n",
    "Some regions are listed as part of one country, but due to geography or politics can be considered a separate entity. Without getting too political, let's separate out a few of these."
   ]
  },
  {
   "cell_type": "code",
   "execution_count": 13,
   "metadata": {
    "colab": {},
    "colab_type": "code",
    "id": "_55vPWa3UlJ7"
   },
   "outputs": [],
   "source": [
    "# Taiwan, St. Martin, Faroe Islands, St. Barthelemy, French Polynesia, French Guiana, Mayotte, Guadeloupe, Curacao, Cayman Islands, Reunion, Aruba, monserrat, Greenland, new caledonia, Bermuda.\n",
    "for r in ['St Martin', 'Faroe Islands', 'Saint Barthelemy', 'French Polynesia', 'French Guiana', 'Mayotte',\n",
    "          'Guadeloupe', 'Curacao', 'Cayman Islands', 'Reunion', 'Aruba', 'Montserrat', 'Greenland', 'New Caledonia', 'Bermuda']:\n",
    "    if deaths.loc[deaths['Province/State']==r].shape[0]<1:\n",
    "        print(r)\n",
    "    deaths.loc[deaths['Province/State']==r, 'Territory'] = r\n",
    "    cases.loc[cases['Province/State']==r, 'Territory'] = r\n"
   ]
  },
  {
   "cell_type": "markdown",
   "metadata": {
    "colab_type": "text",
    "id": "u7oigEIXjKW0"
   },
   "source": [
    "## Adding Population info\n",
    "\n",
    "This is optional, but this section adds population info. Use with caution, and feel free to make manual corrections. "
   ]
  },
  {
   "cell_type": "code",
   "execution_count": 14,
   "metadata": {
    "colab": {
     "base_uri": "https://localhost:8080/",
     "height": 34
    },
    "colab_type": "code",
    "id": "lnRlRHcQjTqb",
    "outputId": "1688bc23-c417-4d31-9b2d-064388f49026"
   },
   "outputs": [
    {
     "name": "stderr",
     "output_type": "stream",
     "text": [
      "ERROR: Invalid requirement: '#'\n"
     ]
    }
   ],
   "source": [
    "!pip install countryinfo # Run if needed"
   ]
  },
  {
   "cell_type": "code",
   "execution_count": 15,
   "metadata": {
    "colab": {
     "base_uri": "https://localhost:8080/",
     "height": 781
    },
    "colab_type": "code",
    "id": "CMsl3SK2i6xJ",
    "outputId": "d742ace0-de24-4a0e-a242-68034bdb79fe"
   },
   "outputs": [
    {
     "name": "stdout",
     "output_type": "stream",
     "text": [
      "No pop data for Andorra\n",
      "No pop data for Bahamas (the)\n",
      "No pop data for Bolivia (Plurinational State of)\n",
      "No pop data for Brunei Darussalam\n",
      "No pop data for Cabo Verde\n",
      "No pop data for Central African Republic (the)\n",
      "No pop data for Comoros (the)\n",
      "No pop data for Congo (the)\n",
      "No pop data for Curacao\n",
      "No pop data for Czechia\n",
      "No pop data for Côte d'Ivoire\n",
      "No pop data for Democratic People's Republic of Korea (the)\n",
      "No pop data for Democratic Republic of the Congo (the)\n",
      "No pop data for Dominican Republic (the)\n",
      "No pop data for Eswatini\n",
      "No pop data for Gambia (the)\n",
      "No pop data for Iran (Islamic Republic of)\n",
      "No pop data for Lao People's Democratic Republic (the)\n",
      "No pop data for Marshall Islands (the)\n",
      "No pop data for Micronesia (Federated States of)\n",
      "No pop data for Montenegro\n",
      "No pop data for Myanmar\n",
      "No pop data for Netherlands (the)\n",
      "No pop data for Niger (the)\n",
      "No pop data for North Macedonia\n",
      "No pop data for Philippines (the)\n",
      "No pop data for Republic of Korea (the)\n",
      "No pop data for Republic of Moldova (the)\n",
      "No pop data for Reunion\n",
      "No pop data for Russian Federation (the)\n",
      "No pop data for Saint Barthelemy\n",
      "No pop data for Sao Tome and Principe\n",
      "No pop data for Serbia\n",
      "No pop data for St Martin\n",
      "No pop data for Sudan (the)\n",
      "No pop data for Syrian Arab Republic (the)\n",
      "No pop data for Timor-Leste\n",
      "No pop data for United Arab Emirates (the)\n",
      "No pop data for United Kingdom of Great Britain and Northern Ireland (the)\n",
      "No pop data for United Republic of Tanzania (the)\n",
      "No pop data for United States of America (the)\n",
      "No pop data for Venezuela (Bolivarian Republic of)\n",
      "No pop data for Viet Nam\n"
     ]
    }
   ],
   "source": [
    "from countryinfo import CountryInfo\n",
    "\n",
    "pops = {}\n",
    "fails = []\n",
    "\n",
    "regions = sorted(deaths['Territory'].unique())\n",
    "for r in regions:\n",
    "    try:\n",
    "        country = CountryInfo(r)\n",
    "        pops[r] = country.info()['population']\n",
    "    except:\n",
    "        fails.append(r)\n",
    "        print('No pop data for', r)"
   ]
  },
  {
   "cell_type": "code",
   "execution_count": 16,
   "metadata": {
    "colab": {},
    "colab_type": "code",
    "id": "CA-7eXH6kTHA"
   },
   "outputs": [],
   "source": [
    "# Manual fixes\n",
    "# As you can see, this missed many territories, but is provided as a starting point. You can manually add or source better datasets."
   ]
  },
  {
   "cell_type": "code",
   "execution_count": 17,
   "metadata": {
    "colab": {
     "base_uri": "https://localhost:8080/",
     "height": 217
    },
    "colab_type": "code",
    "id": "Um80xaiIoX07",
    "outputId": "e4f29131-b72b-4a8d-c8f2-0e74597751f2"
   },
   "outputs": [
    {
     "data": {
      "text/html": [
       "<div>\n",
       "<style scoped>\n",
       "    .dataframe tbody tr th:only-of-type {\n",
       "        vertical-align: middle;\n",
       "    }\n",
       "\n",
       "    .dataframe tbody tr th {\n",
       "        vertical-align: top;\n",
       "    }\n",
       "\n",
       "    .dataframe thead th {\n",
       "        text-align: right;\n",
       "    }\n",
       "</style>\n",
       "<table border=\"1\" class=\"dataframe\">\n",
       "  <thead>\n",
       "    <tr style=\"text-align: right;\">\n",
       "      <th></th>\n",
       "      <th>Province/State</th>\n",
       "      <th>Country/Region</th>\n",
       "      <th>Territory</th>\n",
       "      <th>Population</th>\n",
       "      <th>Lat</th>\n",
       "      <th>Long</th>\n",
       "      <th>1/22/20</th>\n",
       "      <th>1/23/20</th>\n",
       "      <th>1/24/20</th>\n",
       "      <th>1/25/20</th>\n",
       "      <th>...</th>\n",
       "      <th>5/4/20</th>\n",
       "      <th>5/5/20</th>\n",
       "      <th>5/6/20</th>\n",
       "      <th>5/7/20</th>\n",
       "      <th>5/8/20</th>\n",
       "      <th>5/9/20</th>\n",
       "      <th>5/10/20</th>\n",
       "      <th>5/11/20</th>\n",
       "      <th>5/12/20</th>\n",
       "      <th>5/13/20</th>\n",
       "    </tr>\n",
       "  </thead>\n",
       "  <tbody>\n",
       "    <tr>\n",
       "      <th>0</th>\n",
       "      <td>NaN</td>\n",
       "      <td>Afghanistan</td>\n",
       "      <td>Afghanistan</td>\n",
       "      <td>26023100.0</td>\n",
       "      <td>33.0000</td>\n",
       "      <td>65.0000</td>\n",
       "      <td>0</td>\n",
       "      <td>0</td>\n",
       "      <td>0</td>\n",
       "      <td>0</td>\n",
       "      <td>...</td>\n",
       "      <td>90</td>\n",
       "      <td>95</td>\n",
       "      <td>104</td>\n",
       "      <td>106</td>\n",
       "      <td>109</td>\n",
       "      <td>115</td>\n",
       "      <td>120</td>\n",
       "      <td>122</td>\n",
       "      <td>127</td>\n",
       "      <td>132</td>\n",
       "    </tr>\n",
       "    <tr>\n",
       "      <th>1</th>\n",
       "      <td>NaN</td>\n",
       "      <td>Albania</td>\n",
       "      <td>Albania</td>\n",
       "      <td>2895947.0</td>\n",
       "      <td>41.1533</td>\n",
       "      <td>20.1683</td>\n",
       "      <td>0</td>\n",
       "      <td>0</td>\n",
       "      <td>0</td>\n",
       "      <td>0</td>\n",
       "      <td>...</td>\n",
       "      <td>31</td>\n",
       "      <td>31</td>\n",
       "      <td>31</td>\n",
       "      <td>31</td>\n",
       "      <td>31</td>\n",
       "      <td>31</td>\n",
       "      <td>31</td>\n",
       "      <td>31</td>\n",
       "      <td>31</td>\n",
       "      <td>31</td>\n",
       "    </tr>\n",
       "    <tr>\n",
       "      <th>2</th>\n",
       "      <td>NaN</td>\n",
       "      <td>Algeria</td>\n",
       "      <td>Algeria</td>\n",
       "      <td>38700000.0</td>\n",
       "      <td>28.0339</td>\n",
       "      <td>1.6596</td>\n",
       "      <td>0</td>\n",
       "      <td>0</td>\n",
       "      <td>0</td>\n",
       "      <td>0</td>\n",
       "      <td>...</td>\n",
       "      <td>465</td>\n",
       "      <td>470</td>\n",
       "      <td>476</td>\n",
       "      <td>483</td>\n",
       "      <td>488</td>\n",
       "      <td>494</td>\n",
       "      <td>502</td>\n",
       "      <td>507</td>\n",
       "      <td>515</td>\n",
       "      <td>522</td>\n",
       "    </tr>\n",
       "    <tr>\n",
       "      <th>3</th>\n",
       "      <td>NaN</td>\n",
       "      <td>Andorra</td>\n",
       "      <td>Andorra</td>\n",
       "      <td>NaN</td>\n",
       "      <td>42.5063</td>\n",
       "      <td>1.5218</td>\n",
       "      <td>0</td>\n",
       "      <td>0</td>\n",
       "      <td>0</td>\n",
       "      <td>0</td>\n",
       "      <td>...</td>\n",
       "      <td>45</td>\n",
       "      <td>46</td>\n",
       "      <td>46</td>\n",
       "      <td>47</td>\n",
       "      <td>47</td>\n",
       "      <td>48</td>\n",
       "      <td>48</td>\n",
       "      <td>48</td>\n",
       "      <td>48</td>\n",
       "      <td>49</td>\n",
       "    </tr>\n",
       "    <tr>\n",
       "      <th>4</th>\n",
       "      <td>NaN</td>\n",
       "      <td>Angola</td>\n",
       "      <td>Angola</td>\n",
       "      <td>24383301.0</td>\n",
       "      <td>-11.2027</td>\n",
       "      <td>17.8739</td>\n",
       "      <td>0</td>\n",
       "      <td>0</td>\n",
       "      <td>0</td>\n",
       "      <td>0</td>\n",
       "      <td>...</td>\n",
       "      <td>2</td>\n",
       "      <td>2</td>\n",
       "      <td>2</td>\n",
       "      <td>2</td>\n",
       "      <td>2</td>\n",
       "      <td>2</td>\n",
       "      <td>2</td>\n",
       "      <td>2</td>\n",
       "      <td>2</td>\n",
       "      <td>2</td>\n",
       "    </tr>\n",
       "  </tbody>\n",
       "</table>\n",
       "<p>5 rows × 119 columns</p>\n",
       "</div>"
      ],
      "text/plain": [
       "  Province/State Country/Region    Territory  Population      Lat     Long  \\\n",
       "0            NaN    Afghanistan  Afghanistan  26023100.0  33.0000  65.0000   \n",
       "1            NaN        Albania      Albania   2895947.0  41.1533  20.1683   \n",
       "2            NaN        Algeria      Algeria  38700000.0  28.0339   1.6596   \n",
       "3            NaN        Andorra      Andorra         NaN  42.5063   1.5218   \n",
       "4            NaN         Angola       Angola  24383301.0 -11.2027  17.8739   \n",
       "\n",
       "   1/22/20  1/23/20  1/24/20  1/25/20  ...  5/4/20  5/5/20  5/6/20  5/7/20  \\\n",
       "0        0        0        0        0  ...      90      95     104     106   \n",
       "1        0        0        0        0  ...      31      31      31      31   \n",
       "2        0        0        0        0  ...     465     470     476     483   \n",
       "3        0        0        0        0  ...      45      46      46      47   \n",
       "4        0        0        0        0  ...       2       2       2       2   \n",
       "\n",
       "   5/8/20  5/9/20  5/10/20  5/11/20  5/12/20  5/13/20  \n",
       "0     109     115      120      122      127      132  \n",
       "1      31      31       31       31       31       31  \n",
       "2     488     494      502      507      515      522  \n",
       "3      47      48       48       48       48       49  \n",
       "4       2       2        2        2        2        2  \n",
       "\n",
       "[5 rows x 119 columns]"
      ]
     },
     "execution_count": 17,
     "metadata": {},
     "output_type": "execute_result"
    }
   ],
   "source": [
    "# Adding in population as a column\n",
    "cols = list(deaths.columns)\n",
    "deaths['Population'] = deaths['Country/Region'].map(pops)\n",
    "deaths = deaths[cols[:2]+['Territory','Population']+cols[2:-1]] # Better ordering\n",
    "deaths.head()"
   ]
  },
  {
   "cell_type": "markdown",
   "metadata": {
    "colab_type": "text",
    "id": "Q98z86uA25dx"
   },
   "source": [
    "## Some Quick Visualizations"
   ]
  },
  {
   "cell_type": "code",
   "execution_count": 18,
   "metadata": {
    "colab": {
     "base_uri": "https://localhost:8080/",
     "height": 282
    },
    "colab_type": "code",
    "id": "j3mXkHha2qm-",
    "outputId": "9ffc4580-2a87-4895-e56f-7ef6452eca89"
   },
   "outputs": [
    {
     "data": {
      "text/plain": [
       "<matplotlib.axes._subplots.AxesSubplot at 0x298019846d8>"
      ]
     },
     "execution_count": 18,
     "metadata": {},
     "output_type": "execute_result"
    },
    {
     "data": {
      "image/png": "[encoded data removed]",
      "text/plain": [
       "<Figure size 432x288 with 1 Axes>"
      ]
     },
     "metadata": {
      "needs_background": "light"
     },
     "output_type": "display_data"
    }
   ],
   "source": [
    "# Cases for mainland China (note - data is cumulative)\n",
    "cases.groupby('Territory').sum().loc['China'][3:].plot()"
   ]
  },
  {
   "cell_type": "code",
   "execution_count": 19,
   "metadata": {
    "colab": {
     "base_uri": "https://localhost:8080/",
     "height": 282
    },
    "colab_type": "code",
    "id": "bjz5bHN_2_eQ",
    "outputId": "917ac860-37cf-4a88-f7c7-dd16b03b9214"
   },
   "outputs": [
    {
     "data": {
      "text/plain": [
       "<matplotlib.axes._subplots.AxesSubplot at 0x29801d9b7b8>"
      ]
     },
     "execution_count": 19,
     "metadata": {},
     "output_type": "execute_result"
    },
    {
     "data": {
      "image/png": "[encoded data removed]",
      "text/plain": [
       "<Figure size 432x288 with 1 Axes>"
      ]
     },
     "metadata": {
      "needs_background": "light"
     },
     "output_type": "display_data"
    }
   ],
   "source": [
    "# Deaths in Italy\n",
    "deaths.groupby('Territory').sum().loc['Italy'][3:].plot()"
   ]
  },
  {
   "cell_type": "code",
   "execution_count": 20,
   "metadata": {
    "colab": {
     "base_uri": "https://localhost:8080/",
     "height": 407
    },
    "colab_type": "code",
    "id": "nS6QovqppGtY",
    "outputId": "40ae827c-a04d-4080-fadb-3db9339fb573"
   },
   "outputs": [
    {
     "data": {
      "text/plain": [
       "Territory\n",
       "San Marino     916.226369\n",
       "Italy          136.088896\n",
       "China           23.202230\n",
       "Guyana          12.740574\n",
       "Spain           11.825983\n",
       "Lebanon          7.309942\n",
       "France           7.264142\n",
       "Switzerland      4.887705\n",
       "Albania          3.453102\n",
       "Panama           2.693014\n",
       "Belgium          2.672494\n",
       "Iraq             2.221941\n",
       "Ireland          1.567890\n",
       "Bulgaria         1.380133\n",
       "Australia        1.265988\n",
       "Japan            1.259049\n",
       "Austria          1.172714\n",
       "Sweden           1.026955\n",
       "Greece           0.909704\n",
       "Germany          0.371365\n",
       "dtype: float64"
      ]
     },
     "execution_count": 20,
     "metadata": {},
     "output_type": "execute_result"
    }
   ],
   "source": [
    "# Looking at raw numbers vs pop adjusted figures\n",
    "grouped = deaths.groupby('Territory').sum()\n",
    "# grouped['3/12/20'].sort_values(ascending=False).head(20) # Raw numbers\n",
    "(grouped['3/12/20']*1e7/deaths.groupby('Territory').mean()['Population']).sort_values(ascending=False).head(20) # Scaled by population (deaths/10M people)"
   ]
  },
  {
   "cell_type": "markdown",
   "metadata": {
    "colab_type": "text",
    "id": "3T2bl5GX4KI9"
   },
   "source": [
    "## Preparing a 'sample submission' file and scoring locally\n",
    "\n",
    "This will mimic the way submissions to Zindi will work. We'll generate an example submission file along with a reference file (the correct answers, used for scoring). \n",
    "\n",
    "Dates for the submission will change as the competition goes on. Here, we'll use the last available week of data for local testing. The next section shows how to create a submission file that can be uploaded to Zindi for scoring."
   ]
  },
  {
   "cell_type": "code",
   "execution_count": 21,
   "metadata": {},
   "outputs": [
    {
     "data": {
      "text/html": [
       "<div>\n",
       "<style scoped>\n",
       "    .dataframe tbody tr th:only-of-type {\n",
       "        vertical-align: middle;\n",
       "    }\n",
       "\n",
       "    .dataframe tbody tr th {\n",
       "        vertical-align: top;\n",
       "    }\n",
       "\n",
       "    .dataframe thead th {\n",
       "        text-align: right;\n",
       "    }\n",
       "</style>\n",
       "<table border=\"1\" class=\"dataframe\">\n",
       "  <thead>\n",
       "    <tr style=\"text-align: right;\">\n",
       "      <th></th>\n",
       "      <th>Territory X Date</th>\n",
       "      <th>target</th>\n",
       "      <th>Territory</th>\n",
       "      <th>Date</th>\n",
       "    </tr>\n",
       "  </thead>\n",
       "  <tbody>\n",
       "    <tr>\n",
       "      <th>0</th>\n",
       "      <td>Afghanistan X 1/22/20</td>\n",
       "      <td>0</td>\n",
       "      <td>Afghanistan</td>\n",
       "      <td>1/22/20</td>\n",
       "    </tr>\n",
       "    <tr>\n",
       "      <th>1</th>\n",
       "      <td>Afghanistan X 1/23/20</td>\n",
       "      <td>0</td>\n",
       "      <td>Afghanistan</td>\n",
       "      <td>1/23/20</td>\n",
       "    </tr>\n",
       "    <tr>\n",
       "      <th>2</th>\n",
       "      <td>Afghanistan X 1/24/20</td>\n",
       "      <td>0</td>\n",
       "      <td>Afghanistan</td>\n",
       "      <td>1/24/20</td>\n",
       "    </tr>\n",
       "    <tr>\n",
       "      <th>3</th>\n",
       "      <td>Afghanistan X 1/25/20</td>\n",
       "      <td>0</td>\n",
       "      <td>Afghanistan</td>\n",
       "      <td>1/25/20</td>\n",
       "    </tr>\n",
       "    <tr>\n",
       "      <th>4</th>\n",
       "      <td>Afghanistan X 1/26/20</td>\n",
       "      <td>0</td>\n",
       "      <td>Afghanistan</td>\n",
       "      <td>1/26/20</td>\n",
       "    </tr>\n",
       "  </tbody>\n",
       "</table>\n",
       "</div>"
      ],
      "text/plain": [
       "        Territory X Date  target    Territory     Date\n",
       "0  Afghanistan X 1/22/20       0  Afghanistan  1/22/20\n",
       "1  Afghanistan X 1/23/20       0  Afghanistan  1/23/20\n",
       "2  Afghanistan X 1/24/20       0  Afghanistan  1/24/20\n",
       "3  Afghanistan X 1/25/20       0  Afghanistan  1/25/20\n",
       "4  Afghanistan X 1/26/20       0  Afghanistan  1/26/20"
      ]
     },
     "execution_count": 21,
     "metadata": {},
     "output_type": "execute_result"
    }
   ],
   "source": [
    "test_dates = deaths.columns[6:]\n",
    "countries = deaths.groupby('Territory').sum()[test_dates] # Group by country/region, and select only the columns for the test_period\n",
    "\n",
    "# Create a new dataframe, with a Region X Date column. \n",
    "train_test  = pd.DataFrame({\n",
    "    'Territory X Date':list(map((lambda x: ' X '.join(x)), list(countries.stack().index.to_flat_index()))), # Check output to see what this is doing\n",
    "    'target':countries.stack() # The target we'll be predicting: cumulative number of cases for a given region at a given date.\n",
    "}).reset_index(drop=True) # Don't need the multiIndex created with Stack\n",
    "train_test['Territory'] = train_test['Territory X Date'].apply(lambda x: x.split(' X ')[0])\n",
    "train_test['Date'] = train_test['Territory X Date'].apply(lambda x: x.split(' X ')[1])\n",
    "train_test.to_csv('train_test.csv', index=False)\n",
    "train_test.head()"
   ]
  },
  {
   "cell_type": "code",
   "execution_count": 22,
   "metadata": {
    "colab": {
     "base_uri": "https://localhost:8080/",
     "height": 197
    },
    "colab_type": "code",
    "id": "VgYQ53Yg4XWj",
    "outputId": "83728386-9a85-40ff-c299-f623a16b5225"
   },
   "outputs": [
    {
     "data": {
      "text/html": [
       "<div>\n",
       "<style scoped>\n",
       "    .dataframe tbody tr th:only-of-type {\n",
       "        vertical-align: middle;\n",
       "    }\n",
       "\n",
       "    .dataframe tbody tr th {\n",
       "        vertical-align: top;\n",
       "    }\n",
       "\n",
       "    .dataframe thead th {\n",
       "        text-align: right;\n",
       "    }\n",
       "</style>\n",
       "<table border=\"1\" class=\"dataframe\">\n",
       "  <thead>\n",
       "    <tr style=\"text-align: right;\">\n",
       "      <th></th>\n",
       "      <th>Territory X Date</th>\n",
       "      <th>target</th>\n",
       "    </tr>\n",
       "  </thead>\n",
       "  <tbody>\n",
       "    <tr>\n",
       "      <th>0</th>\n",
       "      <td>Afghanistan X 5/7/20</td>\n",
       "      <td>106</td>\n",
       "    </tr>\n",
       "    <tr>\n",
       "      <th>1</th>\n",
       "      <td>Afghanistan X 5/8/20</td>\n",
       "      <td>109</td>\n",
       "    </tr>\n",
       "    <tr>\n",
       "      <th>2</th>\n",
       "      <td>Afghanistan X 5/9/20</td>\n",
       "      <td>115</td>\n",
       "    </tr>\n",
       "    <tr>\n",
       "      <th>3</th>\n",
       "      <td>Afghanistan X 5/10/20</td>\n",
       "      <td>120</td>\n",
       "    </tr>\n",
       "    <tr>\n",
       "      <th>4</th>\n",
       "      <td>Afghanistan X 5/11/20</td>\n",
       "      <td>122</td>\n",
       "    </tr>\n",
       "  </tbody>\n",
       "</table>\n",
       "</div>"
      ],
      "text/plain": [
       "        Territory X Date  target\n",
       "0   Afghanistan X 5/7/20     106\n",
       "1   Afghanistan X 5/8/20     109\n",
       "2   Afghanistan X 5/9/20     115\n",
       "3  Afghanistan X 5/10/20     120\n",
       "4  Afghanistan X 5/11/20     122"
      ]
     },
     "execution_count": 22,
     "metadata": {},
     "output_type": "execute_result"
    }
   ],
   "source": [
    "# Creating the 'reference' file\n",
    "\n",
    "TEST_PERIOD = 7 # In days\n",
    "\n",
    "test_dates = deaths.columns[-TEST_PERIOD:] # The last two weeks worth of data\n",
    "countries = deaths.groupby('Territory').sum()[test_dates] # Group by country/region, and select only the columns for the test_period\n",
    "\n",
    "# Create a new dataframe, with a Region X Date column. \n",
    "reference = pd.DataFrame({\n",
    "    'Territory X Date':list(map((lambda x: ' X '.join(x)), list(countries.stack().index.to_flat_index()))), # Check output to see what this is doing\n",
    "    'target':countries.stack() # The target we'll be predicting: cumulative number of cases for a given region at a given date.\n",
    "}).reset_index(drop=True) # Don't need the multiIndex created with Stack\n",
    "reference.to_csv('reference.csv', index=False)\n",
    "reference.head()"
   ]
  },
  {
   "cell_type": "code",
   "execution_count": 23,
   "metadata": {
    "colab": {
     "base_uri": "https://localhost:8080/",
     "height": 52
    },
    "colab_type": "code",
    "id": "co7Y1rFp5Vb3",
    "outputId": "62c99625-b774-4082-882f-a9956b204fc6"
   },
   "outputs": [
    {
     "name": "stdout",
     "output_type": "stream",
     "text": [
      "1981590\n",
      "0\n"
     ]
    }
   ],
   "source": [
    "# Sample submission is the same as the reference file, just with target set to 0\n",
    "print(reference.target.sum())\n",
    "ss = reference.copy()\n",
    "ss['target'] = 0\n",
    "print(ss.target.sum())\n",
    "ss.to_csv('SampleSubLocal.csv', index=False)"
   ]
  },
  {
   "cell_type": "code",
   "execution_count": 24,
   "metadata": {
    "colab": {
     "base_uri": "https://localhost:8080/",
     "height": 34
    },
    "colab_type": "code",
    "id": "O7pEcKfq6yW3",
    "outputId": "1aac1c07-e4c6-4adb-d58b-8c5c15b9bc7f"
   },
   "outputs": [
    {
     "name": "stdout",
     "output_type": "stream",
     "text": [
      "MAE:  1355.3233082706768\n"
     ]
    }
   ],
   "source": [
    "# Scoring\n",
    "from sklearn.metrics import mean_absolute_error\n",
    "\n",
    "# Create some 'predictions\n",
    "predictions = ss.copy()\n",
    "predictions['target'] = 42 # These would be your actual predictions\n",
    "\n",
    "# Calculate MAE\n",
    "print('MAE: ', mean_absolute_error(reference['target'], predictions['target']))"
   ]
  },
  {
   "cell_type": "markdown",
   "metadata": {
    "colab_type": "text",
    "id": "1rhCmkkXBKp-"
   },
   "source": [
    "# Matching the Zindi Submission File\n",
    "\n",
    "The competition requires that you submit a file containing predictions for the whole of the time period between March 6 and June 7. The way it works is that only the relevant week's worth of predictions will be evaluated. Let's create an appropriate file."
   ]
  },
  {
   "cell_type": "code",
   "execution_count": 25,
   "metadata": {
    "colab": {
     "base_uri": "https://localhost:8080/",
     "height": 197
    },
    "colab_type": "code",
    "id": "FHj9OzNvBJ1W",
    "outputId": "ff74449f-2a25-432f-9b8f-2626a6bf9391"
   },
   "outputs": [
    {
     "data": {
      "text/html": [
       "<div>\n",
       "<style scoped>\n",
       "    .dataframe tbody tr th:only-of-type {\n",
       "        vertical-align: middle;\n",
       "    }\n",
       "\n",
       "    .dataframe tbody tr th {\n",
       "        vertical-align: top;\n",
       "    }\n",
       "\n",
       "    .dataframe thead th {\n",
       "        text-align: right;\n",
       "    }\n",
       "</style>\n",
       "<table border=\"1\" class=\"dataframe\">\n",
       "  <thead>\n",
       "    <tr style=\"text-align: right;\">\n",
       "      <th></th>\n",
       "      <th>Territory X Date</th>\n",
       "      <th>target</th>\n",
       "    </tr>\n",
       "  </thead>\n",
       "  <tbody>\n",
       "    <tr>\n",
       "      <th>0</th>\n",
       "      <td>Afghanistan X 03/06/20</td>\n",
       "      <td>0</td>\n",
       "    </tr>\n",
       "    <tr>\n",
       "      <th>1</th>\n",
       "      <td>Afghanistan X 03/07/20</td>\n",
       "      <td>0</td>\n",
       "    </tr>\n",
       "    <tr>\n",
       "      <th>2</th>\n",
       "      <td>Afghanistan X 03/08/20</td>\n",
       "      <td>0</td>\n",
       "    </tr>\n",
       "    <tr>\n",
       "      <th>3</th>\n",
       "      <td>Afghanistan X 03/09/20</td>\n",
       "      <td>0</td>\n",
       "    </tr>\n",
       "    <tr>\n",
       "      <th>4</th>\n",
       "      <td>Afghanistan X 03/10/20</td>\n",
       "      <td>0</td>\n",
       "    </tr>\n",
       "  </tbody>\n",
       "</table>\n",
       "</div>"
      ],
      "text/plain": [
       "         Territory X Date  target\n",
       "0  Afghanistan X 03/06/20       0\n",
       "1  Afghanistan X 03/07/20       0\n",
       "2  Afghanistan X 03/08/20       0\n",
       "3  Afghanistan X 03/09/20       0\n",
       "4  Afghanistan X 03/10/20       0"
      ]
     },
     "execution_count": 25,
     "metadata": {},
     "output_type": "execute_result"
    }
   ],
   "source": [
    "dates = pd.date_range(start='2020-03-06', end='2020-06-07', freq='1d')\n",
    "ids = []\n",
    "for c in sorted(deaths['Territory'].unique()):\n",
    "    for d in dates:\n",
    "        ids.append(c + ' X ' + d.strftime('%m/%d/%y'))\n",
    "ss = pd.DataFrame({\n",
    "    'Territory X Date':ids,\n",
    "    'target':0\n",
    "})\n",
    "ss.to_csv('SampleSubmission.csv', index=False)\n",
    "ss.head()"
   ]
  },
  {
   "cell_type": "code",
   "execution_count": 26,
   "metadata": {
    "colab": {
     "base_uri": "https://localhost:8080/",
     "height": 197
    },
    "colab_type": "code",
    "id": "47nMsJavDRLC",
    "outputId": "9e01f8dc-f714-4dec-b630-da757d7f5095"
   },
   "outputs": [
    {
     "data": {
      "text/html": [
       "<div>\n",
       "<style scoped>\n",
       "    .dataframe tbody tr th:only-of-type {\n",
       "        vertical-align: middle;\n",
       "    }\n",
       "\n",
       "    .dataframe tbody tr th {\n",
       "        vertical-align: top;\n",
       "    }\n",
       "\n",
       "    .dataframe thead th {\n",
       "        text-align: right;\n",
       "    }\n",
       "</style>\n",
       "<table border=\"1\" class=\"dataframe\">\n",
       "  <thead>\n",
       "    <tr style=\"text-align: right;\">\n",
       "      <th></th>\n",
       "      <th>Territory X Date</th>\n",
       "      <th>target</th>\n",
       "    </tr>\n",
       "  </thead>\n",
       "  <tbody>\n",
       "    <tr>\n",
       "      <th>19641</th>\n",
       "      <td>Zimbabwe X 06/03/20</td>\n",
       "      <td>0</td>\n",
       "    </tr>\n",
       "    <tr>\n",
       "      <th>19642</th>\n",
       "      <td>Zimbabwe X 06/04/20</td>\n",
       "      <td>0</td>\n",
       "    </tr>\n",
       "    <tr>\n",
       "      <th>19643</th>\n",
       "      <td>Zimbabwe X 06/05/20</td>\n",
       "      <td>0</td>\n",
       "    </tr>\n",
       "    <tr>\n",
       "      <th>19644</th>\n",
       "      <td>Zimbabwe X 06/06/20</td>\n",
       "      <td>0</td>\n",
       "    </tr>\n",
       "    <tr>\n",
       "      <th>19645</th>\n",
       "      <td>Zimbabwe X 06/07/20</td>\n",
       "      <td>0</td>\n",
       "    </tr>\n",
       "  </tbody>\n",
       "</table>\n",
       "</div>"
      ],
      "text/plain": [
       "          Territory X Date  target\n",
       "19641  Zimbabwe X 06/03/20       0\n",
       "19642  Zimbabwe X 06/04/20       0\n",
       "19643  Zimbabwe X 06/05/20       0\n",
       "19644  Zimbabwe X 06/06/20       0\n",
       "19645  Zimbabwe X 06/07/20       0"
      ]
     },
     "execution_count": 26,
     "metadata": {},
     "output_type": "execute_result"
    }
   ],
   "source": [
    "ss.tail()"
   ]
  },
  {
   "cell_type": "markdown",
   "metadata": {
    "colab_type": "text",
    "id": "8-pkB9h78rFj"
   },
   "source": [
    "# Creating 'Train.csv'\n",
    "\n",
    "You can shape your training data in any way you want, **provided that it does not include data from the test period**. The goal is to predict into the future. While the competition is open, you could simply use all the available data for training and get a near-perfect score. However, this won't represent how well your model will do in the future. The final score will be based on new, unseen data based on events after the competition closes. \n",
    "\n",
    "This is how the 'train.csv' file available from Zindi is generated:"
   ]
  },
  {
   "cell_type": "code",
   "execution_count": 27,
   "metadata": {
    "colab": {
     "base_uri": "https://localhost:8080/",
     "height": 197
    },
    "colab_type": "code",
    "id": "OB7RpB1P7qqz",
    "outputId": "62b2928d-d709-4892-8299-0e0ccde48f23"
   },
   "outputs": [
    {
     "data": {
      "text/html": [
       "<div>\n",
       "<style scoped>\n",
       "    .dataframe tbody tr th:only-of-type {\n",
       "        vertical-align: middle;\n",
       "    }\n",
       "\n",
       "    .dataframe tbody tr th {\n",
       "        vertical-align: top;\n",
       "    }\n",
       "\n",
       "    .dataframe thead th {\n",
       "        text-align: right;\n",
       "    }\n",
       "</style>\n",
       "<table border=\"1\" class=\"dataframe\">\n",
       "  <thead>\n",
       "    <tr style=\"text-align: right;\">\n",
       "      <th></th>\n",
       "      <th>Territory X Date</th>\n",
       "      <th>target</th>\n",
       "      <th>cases</th>\n",
       "      <th>Territory</th>\n",
       "      <th>Date</th>\n",
       "    </tr>\n",
       "  </thead>\n",
       "  <tbody>\n",
       "    <tr>\n",
       "      <th>0</th>\n",
       "      <td>Afghanistan X 1/22/20</td>\n",
       "      <td>0</td>\n",
       "      <td>0</td>\n",
       "      <td>Afghanistan</td>\n",
       "      <td>1/22/20</td>\n",
       "    </tr>\n",
       "    <tr>\n",
       "      <th>1</th>\n",
       "      <td>Afghanistan X 1/23/20</td>\n",
       "      <td>0</td>\n",
       "      <td>0</td>\n",
       "      <td>Afghanistan</td>\n",
       "      <td>1/23/20</td>\n",
       "    </tr>\n",
       "    <tr>\n",
       "      <th>2</th>\n",
       "      <td>Afghanistan X 1/24/20</td>\n",
       "      <td>0</td>\n",
       "      <td>0</td>\n",
       "      <td>Afghanistan</td>\n",
       "      <td>1/24/20</td>\n",
       "    </tr>\n",
       "    <tr>\n",
       "      <th>3</th>\n",
       "      <td>Afghanistan X 1/25/20</td>\n",
       "      <td>0</td>\n",
       "      <td>0</td>\n",
       "      <td>Afghanistan</td>\n",
       "      <td>1/25/20</td>\n",
       "    </tr>\n",
       "    <tr>\n",
       "      <th>4</th>\n",
       "      <td>Afghanistan X 1/26/20</td>\n",
       "      <td>0</td>\n",
       "      <td>0</td>\n",
       "      <td>Afghanistan</td>\n",
       "      <td>1/26/20</td>\n",
       "    </tr>\n",
       "  </tbody>\n",
       "</table>\n",
       "</div>"
      ],
      "text/plain": [
       "        Territory X Date  target  cases    Territory     Date\n",
       "0  Afghanistan X 1/22/20       0      0  Afghanistan  1/22/20\n",
       "1  Afghanistan X 1/23/20       0      0  Afghanistan  1/23/20\n",
       "2  Afghanistan X 1/24/20       0      0  Afghanistan  1/24/20\n",
       "3  Afghanistan X 1/25/20       0      0  Afghanistan  1/25/20\n",
       "4  Afghanistan X 1/26/20       0      0  Afghanistan  1/26/20"
      ]
     },
     "execution_count": 27,
     "metadata": {},
     "output_type": "execute_result"
    }
   ],
   "source": [
    "train_dates = deaths.columns[6:-TEST_PERIOD] # The dates for the train perion\n",
    "\n",
    "# Grouping by territory\n",
    "country_deaths = deaths.groupby('Territory').sum()[train_dates] \n",
    "country_cases = cases.groupby('Territory').sum()[train_dates] \n",
    "\n",
    "# Creating the dataframe\n",
    "train = pd.DataFrame({\n",
    "    'Territory X Date':list(map((lambda x: ' X '.join(x)), list(country_deaths.stack().index.to_flat_index()))), \n",
    "    'target':country_deaths.stack(),\n",
    "    'cases':country_cases.stack() # Added as they may be useful\n",
    "}).reset_index(drop=True)\n",
    "\n",
    "# Add Separate Region and Date columns\n",
    "train['Territory'] = train['Territory X Date'].apply(lambda x: x.split(' X ')[0])\n",
    "train['Date'] = train['Territory X Date'].apply(lambda x: x.split(' X ')[1])\n",
    "\n",
    "# Saving and viewing\n",
    "train.to_csv('train.csv', index=False)\n",
    "train.head()"
   ]
  },
  {
   "cell_type": "code",
   "execution_count": 28,
   "metadata": {
    "colab": {
     "base_uri": "https://localhost:8080/",
     "height": 197
    },
    "colab_type": "code",
    "id": "ym0RrvyJNoCv",
    "outputId": "1771f1e2-6ac6-412e-ff7f-df1a32a720e5"
   },
   "outputs": [
    {
     "data": {
      "text/html": [
       "<div>\n",
       "<style scoped>\n",
       "    .dataframe tbody tr th:only-of-type {\n",
       "        vertical-align: middle;\n",
       "    }\n",
       "\n",
       "    .dataframe tbody tr th {\n",
       "        vertical-align: top;\n",
       "    }\n",
       "\n",
       "    .dataframe thead th {\n",
       "        text-align: right;\n",
       "    }\n",
       "</style>\n",
       "<table border=\"1\" class=\"dataframe\">\n",
       "  <thead>\n",
       "    <tr style=\"text-align: right;\">\n",
       "      <th></th>\n",
       "      <th>Territory X Date</th>\n",
       "      <th>target</th>\n",
       "      <th>cases</th>\n",
       "      <th>Territory</th>\n",
       "      <th>Date</th>\n",
       "    </tr>\n",
       "  </thead>\n",
       "  <tbody>\n",
       "    <tr>\n",
       "      <th>0</th>\n",
       "      <td>Afghanistan X 1/22/20</td>\n",
       "      <td>0</td>\n",
       "      <td>0</td>\n",
       "      <td>Afghanistan</td>\n",
       "      <td>1/22/20</td>\n",
       "    </tr>\n",
       "    <tr>\n",
       "      <th>1</th>\n",
       "      <td>Afghanistan X 1/23/20</td>\n",
       "      <td>0</td>\n",
       "      <td>0</td>\n",
       "      <td>Afghanistan</td>\n",
       "      <td>1/23/20</td>\n",
       "    </tr>\n",
       "    <tr>\n",
       "      <th>2</th>\n",
       "      <td>Afghanistan X 1/24/20</td>\n",
       "      <td>0</td>\n",
       "      <td>0</td>\n",
       "      <td>Afghanistan</td>\n",
       "      <td>1/24/20</td>\n",
       "    </tr>\n",
       "    <tr>\n",
       "      <th>3</th>\n",
       "      <td>Afghanistan X 1/25/20</td>\n",
       "      <td>0</td>\n",
       "      <td>0</td>\n",
       "      <td>Afghanistan</td>\n",
       "      <td>1/25/20</td>\n",
       "    </tr>\n",
       "    <tr>\n",
       "      <th>4</th>\n",
       "      <td>Afghanistan X 1/26/20</td>\n",
       "      <td>0</td>\n",
       "      <td>0</td>\n",
       "      <td>Afghanistan</td>\n",
       "      <td>1/26/20</td>\n",
       "    </tr>\n",
       "  </tbody>\n",
       "</table>\n",
       "</div>"
      ],
      "text/plain": [
       "        Territory X Date  target  cases    Territory     Date\n",
       "0  Afghanistan X 1/22/20       0      0  Afghanistan  1/22/20\n",
       "1  Afghanistan X 1/23/20       0      0  Afghanistan  1/23/20\n",
       "2  Afghanistan X 1/24/20       0      0  Afghanistan  1/24/20\n",
       "3  Afghanistan X 1/25/20       0      0  Afghanistan  1/25/20\n",
       "4  Afghanistan X 1/26/20       0      0  Afghanistan  1/26/20"
      ]
     },
     "execution_count": 28,
     "metadata": {},
     "output_type": "execute_result"
    }
   ],
   "source": [
    "# Add Separate Region and Date columns\n",
    "train['Territory'] = train['Territory X Date'].apply(lambda x: x.split(' X ')[0])\n",
    "train['Date'] = train['Territory X Date'].apply(lambda x: x.split(' X ')[1])\n",
    "train.head()"
   ]
  },
  {
   "cell_type": "code",
   "execution_count": 29,
   "metadata": {
    "colab": {},
    "colab_type": "code",
    "id": "NcYFPCL4No45"
   },
   "outputs": [],
   "source": [
    "train.to_csv('train.csv', index=False)"
   ]
  },
  {
   "cell_type": "markdown",
   "metadata": {
    "colab_type": "text",
    "id": "D69liO1kDZp7"
   },
   "source": [
    "Zindi will update the training data weekly, but you are also encouraged to use the data from JH as shown in this notebook to keep up with the latest information."
   ]
  }
 ],
 "metadata": {
  "colab": {
   "collapsed_sections": [],
   "name": "Covid-19-Data-Prep-Allcountries.ipynb",
   "provenance": []
  },
  "kernelspec": {
   "display_name": "Python 3",
   "language": "python",
   "name": "python3"
  },
  "language_info": {
   "codemirror_mode": {
    "name": "ipython",
    "version": 3
   },
   "file_extension": ".py",
   "mimetype": "text/x-python",
   "name": "python",
   "nbconvert_exporter": "python",
   "pygments_lexer": "ipython3",
   "version": "3.6.10"
  }
 },
 "nbformat": 4,
 "nbformat_minor": 4
}
